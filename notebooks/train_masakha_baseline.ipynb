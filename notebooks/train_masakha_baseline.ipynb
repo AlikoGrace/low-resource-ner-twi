{
 "cells": [
  {
   "cell_type": "code",
   "execution_count": null,
   "metadata": {
    "_cell_guid": "b1076dfc-b9ad-4769-8c92-a6c4dae69d19",
    "_uuid": "8f2839f25d086af736a60e9eeb907d3b93b6e0e5",
    "trusted": true
   },
   "outputs": [],
   "source": [
    "!pip install --upgrade --force-reinstall --no-cache-dir \\\n",
    "  transformers==4.37.2 \\\n",
    "  accelerate==0.25.0 \\\n",
    "  peft==0.8.2 \\\n",
    "  datasets \\\n",
    "  evaluate \\\n",
    "  seqeval\n"
   ]
  },
  {
   "cell_type": "code",
   "execution_count": null,
   "metadata": {
    "trusted": true
   },
   "outputs": [],
   "source": [
    "import os\n",
    "os.kill(os.getpid(), 9)\n"
   ]
  },
  {
   "cell_type": "code",
   "execution_count": null,
   "metadata": {
    "trusted": true
   },
   "outputs": [],
   "source": [
    "from datasets import load_dataset, DatasetDict, Dataset\n",
    "from transformers import AutoTokenizer, AutoModelForTokenClassification, TrainingArguments, Trainer\n",
    "import numpy as np\n",
    "import evaluate\n",
    "\n",
    "# Entity tag mappings\n",
    "labels = ['O', 'B-PER', 'I-PER', 'B-ORG', 'I-ORG', 'B-LOC', 'I-LOC', 'B-DATE', 'I-DATE']\n",
    "label2id = {l: i for i, l in enumerate(labels)}\n",
    "id2label = {i: l for l, i in label2id.items()}\n"
   ]
  },
  {
   "cell_type": "code",
   "execution_count": null,
   "metadata": {
    "trusted": true
   },
   "outputs": [],
   "source": [
    "import torch\n",
    "print(torch.cuda.is_available())\n"
   ]
  },
  {
   "cell_type": "code",
   "execution_count": null,
   "metadata": {
    "trusted": true
   },
   "outputs": [],
   "source": [
    "def load_conll(path):\n",
    "    tokens, labels = [], []\n",
    "    sentence_tokens, sentence_labels = [], []\n",
    "\n",
    "    with open(path, \"r\", encoding=\"utf-8\") as f:\n",
    "        for line in f:\n",
    "            line = line.strip()\n",
    "            if not line:\n",
    "                if sentence_tokens:\n",
    "                    tokens.append(sentence_tokens)\n",
    "                    labels.append(sentence_labels)\n",
    "                    sentence_tokens, sentence_labels = [], []\n",
    "            else:\n",
    "                splits = line.split()\n",
    "                sentence_tokens.append(splits[0])\n",
    "                sentence_labels.append(splits[1])\n",
    "    return {\"tokens\": tokens, \"ner_tags\": labels}\n",
    "\n",
    "dataset = DatasetDict({\n",
    "    \"train\": Dataset.from_dict(load_conll(\"/kaggle/input/masakha/train.conll\")),\n",
    "    \"validation\": Dataset.from_dict(load_conll(\"/kaggle/input/masakha/dev.conll\")),\n",
    "    \"test\": Dataset.from_dict(load_conll(\"/kaggle/input/masakha/test.conll\"))\n",
    "})\n",
    "\n",
    "\n"
   ]
  },
  {
   "cell_type": "code",
   "execution_count": null,
   "metadata": {
    "trusted": true
   },
   "outputs": [],
   "source": [
    "tokenizer = AutoTokenizer.from_pretrained(\"xlm-roberta-base\", use_fast=True)\n",
    "\n",
    "def tokenize_and_align_labels(examples):\n",
    "    tokenized = tokenizer(examples[\"tokens\"], is_split_into_words=True, truncation=True, padding=\"max_length\")\n",
    "    labels = []\n",
    "\n",
    "    for i, label_seq in enumerate(examples[\"ner_tags\"]):\n",
    "        word_ids = tokenized.word_ids(batch_index=i)\n",
    "        previous_word_idx = None\n",
    "        label_ids = []\n",
    "\n",
    "        for word_idx in word_ids:\n",
    "            if word_idx is None:\n",
    "                label_ids.append(-100)\n",
    "            elif word_idx != previous_word_idx:\n",
    "                label_ids.append(label2id[label_seq[word_idx]])\n",
    "            else:\n",
    "                label_ids.append(label2id[label_seq[word_idx]])\n",
    "            previous_word_idx = word_idx\n",
    "\n",
    "        labels.append(label_ids)\n",
    "    \n",
    "    tokenized[\"labels\"] = labels\n",
    "    return tokenized\n",
    "\n",
    "tokenized_dataset = dataset.map(tokenize_and_align_labels, batched=True)\n"
   ]
  },
  {
   "cell_type": "code",
   "execution_count": null,
   "metadata": {
    "trusted": true
   },
   "outputs": [],
   "source": [
    "seqeval = evaluate.load(\"seqeval\")\n",
    "\n",
    "def compute_metrics(pred):\n",
    "    predictions, labels = pred\n",
    "    predictions = np.argmax(predictions, axis=2)\n",
    "\n",
    "    true_labels = [[id2label[l] for l in label if l != -100] for label in labels]\n",
    "    true_preds = [[id2label[p] for (p, l) in zip(pred, label) if l != -100]\n",
    "                  for pred, label in zip(predictions, labels)]\n",
    "\n",
    "    results = seqeval.compute(predictions=true_preds, references=true_labels)\n",
    "    return {\n",
    "        \"precision\": results[\"overall_precision\"],\n",
    "        \"recall\": results[\"overall_recall\"],\n",
    "        \"f1\": results[\"overall_f1\"],\n",
    "        \"accuracy\": results[\"overall_accuracy\"],\n",
    "    }\n"
   ]
  },
  {
   "cell_type": "code",
   "execution_count": null,
   "metadata": {
    "trusted": true
   },
   "outputs": [],
   "source": [
    "print(f\"Train size: {len(tokenized_dataset['train'])}\")\n",
    "print(f\"Eval size : {len(tokenized_dataset['validation'])}\")\n"
   ]
  },
  {
   "cell_type": "code",
   "execution_count": null,
   "metadata": {
    "trusted": true
   },
   "outputs": [],
   "source": [
    "model = AutoModelForTokenClassification.from_pretrained(\n",
    "    \"xlm-roberta-base\",\n",
    "    num_labels=len(labels),\n",
    "    id2label=id2label,\n",
    "    label2id=label2id\n",
    ")\n",
    "\n",
    "args = TrainingArguments(\n",
    "    output_dir=\"../models/xlmr_masakha_baseline\",\n",
    "    evaluation_strategy=\"epoch\",\n",
    "    save_strategy=\"epoch\",\n",
    "    learning_rate=2e-5,\n",
    "    per_device_train_batch_size=8,\n",
    "    per_device_eval_batch_size=8,\n",
    "    num_train_epochs=5,\n",
    "    weight_decay=0.01,\n",
    "    logging_dir=\"../logs\",\n",
    "    report_to=\"none\"\n",
    ")\n",
    "\n",
    "trainer = Trainer(\n",
    "    model=model,\n",
    "    args=args,\n",
    "    tokenizer=tokenizer,\n",
    "    train_dataset=tokenized_dataset[\"train\"],\n",
    "    eval_dataset=tokenized_dataset[\"validation\"],\n",
    "    compute_metrics=compute_metrics\n",
    ")\n",
    "\n",
    "trainer.train()\n"
   ]
  },
  {
   "cell_type": "code",
   "execution_count": null,
   "metadata": {
    "trusted": true
   },
   "outputs": [],
   "source": [
    "trainer.evaluate()\n",
    "trainer.save_model(\"twi-ner-xlmr\")\n",
    "tokenizer.save_pretrained(\"twi-ner-xlmr\")\n"
   ]
  },
  {
   "cell_type": "code",
   "execution_count": null,
   "metadata": {
    "trusted": true
   },
   "outputs": [],
   "source": [
    "trainer.save_model(\"twi_xlmr_model\")              \n",
    "tokenizer.save_pretrained(\"twi_xlmr_model\")       \n"
   ]
  },
  {
   "cell_type": "code",
   "execution_count": null,
   "metadata": {
    "trusted": true
   },
   "outputs": [],
   "source": [
    "!zip -r twi_xlmr_model.zip twi_xlmr_model\n"
   ]
  },
  {
   "cell_type": "code",
   "execution_count": null,
   "metadata": {
    "trusted": true
   },
   "outputs": [],
   "source": [
    "!pip install numpy==1.24.4 --force-reinstall\n"
   ]
  },
  {
   "cell_type": "code",
   "execution_count": 5,
   "metadata": {
    "execution": {
     "iopub.execute_input": "2025-05-04T01:08:05.015700Z",
     "iopub.status.busy": "2025-05-04T01:08:05.015079Z",
     "iopub.status.idle": "2025-05-04T01:08:06.600789Z",
     "shell.execute_reply": "2025-05-04T01:08:06.600157Z",
     "shell.execute_reply.started": "2025-05-04T01:08:05.015675Z"
    },
    "trusted": true
   },
   "outputs": [],
   "source": [
    "from transformers import AutoTokenizer, AutoModelForTokenClassification\n",
    "\n",
    "tokenizer = AutoTokenizer.from_pretrained(\"twi_xlmr_model\")\n",
    "model = AutoModelForTokenClassification.from_pretrained(\"twi_xlmr_model\")\n"
   ]
  },
  {
   "cell_type": "code",
   "execution_count": 6,
   "metadata": {
    "execution": {
     "iopub.execute_input": "2025-05-04T01:09:16.166493Z",
     "iopub.status.busy": "2025-05-04T01:09:16.165757Z",
     "iopub.status.idle": "2025-05-04T01:09:29.262539Z",
     "shell.execute_reply": "2025-05-04T01:09:29.261813Z",
     "shell.execute_reply.started": "2025-05-04T01:09:16.166462Z"
    },
    "trusted": true
   },
   "outputs": [
    {
     "name": "stdout",
     "output_type": "stream",
     "text": [
      "Archive:  twi_xlmr_model.zip\n",
      "  inflating: ./twi_xlmr_model/tokenizer_config.json  \n",
      "  inflating: ./twi_xlmr_model/sentencepiece.bpe.model  \n",
      "  inflating: ./twi_xlmr_model/config.json  \n",
      "  inflating: ./twi_xlmr_model/model.safetensors  \n",
      "  inflating: ./twi_xlmr_model/tokenizer.json  \n",
      "  inflating: ./twi_xlmr_model/special_tokens_map.json  \n",
      "  inflating: ./twi_xlmr_model/training_args.bin  \n"
     ]
    }
   ],
   "source": [
    "!unzip -o twi_xlmr_model.zip -d .\n"
   ]
  },
  {
   "cell_type": "code",
   "execution_count": 7,
   "metadata": {
    "execution": {
     "iopub.execute_input": "2025-05-04T01:09:47.027125Z",
     "iopub.status.busy": "2025-05-04T01:09:47.026395Z",
     "iopub.status.idle": "2025-05-04T01:09:48.549137Z",
     "shell.execute_reply": "2025-05-04T01:09:48.548261Z",
     "shell.execute_reply.started": "2025-05-04T01:09:47.027096Z"
    },
    "trusted": true
   },
   "outputs": [],
   "source": [
    "from transformers import AutoTokenizer, AutoModelForTokenClassification\n",
    "\n",
    "model_path = \"./twi_xlmr_model\"\n",
    "tokenizer = AutoTokenizer.from_pretrained(model_path)\n",
    "model = AutoModelForTokenClassification.from_pretrained(model_path)\n"
   ]
  },
  {
   "cell_type": "code",
   "execution_count": 8,
   "metadata": {
    "execution": {
     "iopub.execute_input": "2025-05-04T01:10:03.966933Z",
     "iopub.status.busy": "2025-05-04T01:10:03.966629Z",
     "iopub.status.idle": "2025-05-04T01:10:08.463743Z",
     "shell.execute_reply": "2025-05-04T01:10:08.463174Z",
     "shell.execute_reply.started": "2025-05-04T01:10:03.966905Z"
    },
    "trusted": true
   },
   "outputs": [
    {
     "data": {
      "application/vnd.jupyter.widget-view+json": {
       "model_id": "fd11f6bf75b0418da92fe1ddabb02eae",
       "version_major": 2,
       "version_minor": 0
      },
      "text/plain": [
       "README.md:   0%|          | 0.00/8.62k [00:00<?, ?B/s]"
      ]
     },
     "metadata": {},
     "output_type": "display_data"
    },
    {
     "data": {
      "application/vnd.jupyter.widget-view+json": {
       "model_id": "a1eb379992814629a38f4d12b59a25f9",
       "version_major": 2,
       "version_minor": 0
      },
      "text/plain": [
       "masakhaner2.py:   0%|          | 0.00/8.79k [00:00<?, ?B/s]"
      ]
     },
     "metadata": {},
     "output_type": "display_data"
    },
    {
     "data": {
      "application/vnd.jupyter.widget-view+json": {
       "model_id": "e919f3fb13024a54b74531ebb4d7d5f3",
       "version_major": 2,
       "version_minor": 0
      },
      "text/plain": [
       "0000.parquet:   0%|          | 0.00/367k [00:00<?, ?B/s]"
      ]
     },
     "metadata": {},
     "output_type": "display_data"
    },
    {
     "data": {
      "application/vnd.jupyter.widget-view+json": {
       "model_id": "44812e813e1f465e9861371e5f585298",
       "version_major": 2,
       "version_minor": 0
      },
      "text/plain": [
       "0000.parquet:   0%|          | 0.00/55.0k [00:00<?, ?B/s]"
      ]
     },
     "metadata": {},
     "output_type": "display_data"
    },
    {
     "data": {
      "application/vnd.jupyter.widget-view+json": {
       "model_id": "4a71d189a33f4c98bd0d5cd35b9c0bdd",
       "version_major": 2,
       "version_minor": 0
      },
      "text/plain": [
       "0000.parquet:   0%|          | 0.00/105k [00:00<?, ?B/s]"
      ]
     },
     "metadata": {},
     "output_type": "display_data"
    },
    {
     "data": {
      "application/vnd.jupyter.widget-view+json": {
       "model_id": "1dc12b82389a48e5836be6429db18b8b",
       "version_major": 2,
       "version_minor": 0
      },
      "text/plain": [
       "Generating train split:   0%|          | 0/4240 [00:00<?, ? examples/s]"
      ]
     },
     "metadata": {},
     "output_type": "display_data"
    },
    {
     "data": {
      "application/vnd.jupyter.widget-view+json": {
       "model_id": "a1b506728c554613b8edfb39fc721f98",
       "version_major": 2,
       "version_minor": 0
      },
      "text/plain": [
       "Generating validation split:   0%|          | 0/605 [00:00<?, ? examples/s]"
      ]
     },
     "metadata": {},
     "output_type": "display_data"
    },
    {
     "data": {
      "application/vnd.jupyter.widget-view+json": {
       "model_id": "88e234ff82eb4d45b6bbda50bf9ad47a",
       "version_major": 2,
       "version_minor": 0
      },
      "text/plain": [
       "Generating test split:   0%|          | 0/1211 [00:00<?, ? examples/s]"
      ]
     },
     "metadata": {},
     "output_type": "display_data"
    }
   ],
   "source": [
    "from datasets import load_dataset\n",
    "\n",
    "dataset = load_dataset(\"masakhane/masakhaner2\", name=\"twi\")\n"
   ]
  },
  {
   "cell_type": "code",
   "execution_count": 13,
   "metadata": {
    "execution": {
     "iopub.execute_input": "2025-05-04T01:12:07.778809Z",
     "iopub.status.busy": "2025-05-04T01:12:07.778255Z",
     "iopub.status.idle": "2025-05-04T01:12:08.258653Z",
     "shell.execute_reply": "2025-05-04T01:12:08.257896Z",
     "shell.execute_reply.started": "2025-05-04T01:12:07.778776Z"
    },
    "trusted": true
   },
   "outputs": [],
   "source": [
    "from datasets import load_dataset\n",
    "\n",
    "dataset = load_dataset(\"masakhane/masakhaner2\", name=\"twi\")\n",
    "val_dataset = dataset[\"validation\"]\n"
   ]
  },
  {
   "cell_type": "code",
   "execution_count": null,
   "metadata": {
    "execution": {
     "iopub.execute_input": "2025-05-04T01:20:43.473145Z",
     "iopub.status.busy": "2025-05-04T01:20:43.472590Z",
     "iopub.status.idle": "2025-05-04T01:20:43.478412Z",
     "shell.execute_reply": "2025-05-04T01:20:43.477830Z",
     "shell.execute_reply.started": "2025-05-04T01:20:43.473121Z"
    },
    "trusted": true
   },
   "outputs": [],
   "source": [
    "def tokenize_and_align_labels(examples):\n",
    "    tokenized_inputs = tokenizer(\n",
    "        examples[\"tokens\"],\n",
    "        truncation=True,\n",
    "        padding=True,\n",
    "        is_split_into_words=True\n",
    "    )\n",
    "\n",
    "    labels = []\n",
    "    for i, label_seq in enumerate(examples[\"ner_tags\"]):  \n",
    "        word_ids = tokenized_inputs.word_ids(batch_index=i)\n",
    "        previous_word_idx = None\n",
    "        label_ids = []\n",
    "        for word_idx in word_ids:\n",
    "            if word_idx is None:\n",
    "                label_ids.append(-100)\n",
    "            elif word_idx != previous_word_idx:\n",
    "                label_ids.append(label_seq[word_idx])\n",
    "            else:\n",
    "                label_ids.append(label_seq[word_idx])\n",
    "            previous_word_idx = word_idx\n",
    "        labels.append(label_ids)\n",
    "\n",
    "    tokenized_inputs[\"labels\"] = labels\n",
    "    return tokenized_inputs\n"
   ]
  },
  {
   "cell_type": "code",
   "execution_count": 27,
   "metadata": {
    "execution": {
     "iopub.execute_input": "2025-05-04T01:19:14.397601Z",
     "iopub.status.busy": "2025-05-04T01:19:14.397090Z",
     "iopub.status.idle": "2025-05-04T01:19:14.401582Z",
     "shell.execute_reply": "2025-05-04T01:19:14.400768Z",
     "shell.execute_reply.started": "2025-05-04T01:19:14.397577Z"
    },
    "trusted": true
   },
   "outputs": [],
   "source": [
    "labels = ['O', 'B-PER', 'I-PER', 'B-ORG', 'I-ORG', 'B-LOC', 'I-LOC', 'B-DATE', 'I-DATE']\n",
    "label2id = {l: i for i, l in enumerate(labels)}\n",
    "id2label = {i: l for l, i in label2id.items()}\n"
   ]
  },
  {
   "cell_type": "code",
   "execution_count": 30,
   "metadata": {
    "execution": {
     "iopub.execute_input": "2025-05-04T01:20:48.281499Z",
     "iopub.status.busy": "2025-05-04T01:20:48.280941Z",
     "iopub.status.idle": "2025-05-04T01:20:55.952486Z",
     "shell.execute_reply": "2025-05-04T01:20:55.951750Z",
     "shell.execute_reply.started": "2025-05-04T01:20:48.281472Z"
    },
    "trusted": true
   },
   "outputs": [
    {
     "data": {
      "application/vnd.jupyter.widget-view+json": {
       "model_id": "66b1e93f77bf47a3b579d1b04828d92b",
       "version_major": 2,
       "version_minor": 0
      },
      "text/plain": [
       "Map:   0%|          | 0/605 [00:00<?, ? examples/s]"
      ]
     },
     "metadata": {},
     "output_type": "display_data"
    },
    {
     "name": "stderr",
     "output_type": "stream",
     "text": [
      "/usr/local/lib/python3.11/dist-packages/torch/nn/parallel/_functions.py:71: UserWarning: Was asked to gather along dimension 0, but all input tensors were scalars; will instead unsqueeze and return a vector.\n",
      "  warnings.warn(\n"
     ]
    },
    {
     "data": {
      "text/html": [
       "\n",
       "    <div>\n",
       "      \n",
       "      <progress value='38' max='38' style='width:300px; height:20px; vertical-align: middle;'></progress>\n",
       "      [38/38 00:06]\n",
       "    </div>\n",
       "    "
      ],
      "text/plain": [
       "<IPython.core.display.HTML object>"
      ]
     },
     "metadata": {},
     "output_type": "display_data"
    },
    {
     "name": "stdout",
     "output_type": "stream",
     "text": [
      "{'eval_loss': 0.04564737156033516, 'eval_precision': 0.7628062360801782, 'eval_recall': 0.86489898989899, 'eval_f1': 0.8106508875739645, 'eval_accuracy': 0.9878473800648544, 'eval_runtime': 7.4929, 'eval_samples_per_second': 80.744, 'eval_steps_per_second': 5.071}\n"
     ]
    }
   ],
   "source": [
    "tokenized_val = dataset[\"validation\"].map(tokenize_and_align_labels, batched=True)\n",
    "results = trainer.evaluate(tokenized_val)\n",
    "print(results)\n"
   ]
  },
  {
   "cell_type": "code",
   "execution_count": 31,
   "metadata": {
    "execution": {
     "iopub.execute_input": "2025-05-04T01:21:00.552603Z",
     "iopub.status.busy": "2025-05-04T01:21:00.551970Z",
     "iopub.status.idle": "2025-05-04T01:21:00.831871Z",
     "shell.execute_reply": "2025-05-04T01:21:00.831073Z",
     "shell.execute_reply.started": "2025-05-04T01:21:00.552576Z"
    },
    "trusted": true
   },
   "outputs": [],
   "source": [
    "import evaluate\n",
    "import numpy as np\n",
    "\n",
    "seqeval = evaluate.load(\"seqeval\")\n",
    "\n",
    "def compute_metrics(pred):\n",
    "    predictions, labels = pred\n",
    "    predictions = np.argmax(predictions, axis=2)\n",
    "\n",
    "    true_labels = [[id2label[l] for l in label if l != -100] for label in labels]\n",
    "    true_preds  = [[id2label[p] for (p, l) in zip(pred, label) if l != -100] \n",
    "                   for pred, label in zip(predictions, labels)]\n",
    "\n",
    "    results = seqeval.compute(predictions=true_preds, references=true_labels)\n",
    "    return {\n",
    "        \"precision\": results[\"overall_precision\"],\n",
    "        \"recall\": results[\"overall_recall\"],\n",
    "        \"f1\": results[\"overall_f1\"],\n",
    "        \"accuracy\": results[\"overall_accuracy\"],\n",
    "    }\n"
   ]
  },
  {
   "cell_type": "code",
   "execution_count": 32,
   "metadata": {
    "execution": {
     "iopub.execute_input": "2025-05-04T01:21:15.092647Z",
     "iopub.status.busy": "2025-05-04T01:21:15.092110Z",
     "iopub.status.idle": "2025-05-04T01:21:21.609829Z",
     "shell.execute_reply": "2025-05-04T01:21:21.609050Z",
     "shell.execute_reply.started": "2025-05-04T01:21:15.092621Z"
    },
    "trusted": true
   },
   "outputs": [
    {
     "data": {
      "text/html": [
       "\n",
       "    <div>\n",
       "      \n",
       "      <progress value='38' max='38' style='width:300px; height:20px; vertical-align: middle;'></progress>\n",
       "      [38/38 00:05]\n",
       "    </div>\n",
       "    "
      ],
      "text/plain": [
       "<IPython.core.display.HTML object>"
      ]
     },
     "metadata": {},
     "output_type": "display_data"
    },
    {
     "name": "stdout",
     "output_type": "stream",
     "text": [
      "{'eval_loss': 0.04564737156033516, 'eval_precision': 0.7628062360801782, 'eval_recall': 0.86489898989899, 'eval_f1': 0.8106508875739645, 'eval_accuracy': 0.9878473800648544, 'eval_runtime': 6.4922, 'eval_samples_per_second': 93.189, 'eval_steps_per_second': 5.853}\n"
     ]
    }
   ],
   "source": [
    "from transformers import Trainer, TrainingArguments\n",
    "\n",
    "args = TrainingArguments(\n",
    "    output_dir=\"./results\",\n",
    "    per_device_eval_batch_size=8,\n",
    "    logging_dir=\"./logs\",\n",
    "    report_to=\"none\",\n",
    ")\n",
    "\n",
    "trainer = Trainer(\n",
    "    model=model,\n",
    "    args=args,\n",
    "    tokenizer=tokenizer,\n",
    "    compute_metrics=compute_metrics\n",
    ")\n",
    "\n",
    "results = trainer.evaluate(tokenized_val)\n",
    "print(results)\n"
   ]
  },
  {
   "cell_type": "code",
   "execution_count": null,
   "metadata": {
    "execution": {
     "iopub.execute_input": "2025-05-04T01:25:31.234289Z",
     "iopub.status.busy": "2025-05-04T01:25:31.233966Z",
     "iopub.status.idle": "2025-05-04T01:25:31.257782Z",
     "shell.execute_reply": "2025-05-04T01:25:31.257106Z",
     "shell.execute_reply.started": "2025-05-04T01:25:31.234266Z"
    },
    "trusted": true
   },
   "outputs": [
    {
     "name": "stdout",
     "output_type": "stream",
     "text": [
      "Available columns: ['eval_loss', 'eval_precision', 'eval_recall', 'eval_f1', 'eval_accuracy', 'eval_runtime', 'eval_samples_per_second', 'eval_steps_per_second', 'step']\n"
     ]
    },
    {
     "data": {
      "text/html": [
       "<div>\n",
       "<style scoped>\n",
       "    .dataframe tbody tr th:only-of-type {\n",
       "        vertical-align: middle;\n",
       "    }\n",
       "\n",
       "    .dataframe tbody tr th {\n",
       "        vertical-align: top;\n",
       "    }\n",
       "\n",
       "    .dataframe thead th {\n",
       "        text-align: right;\n",
       "    }\n",
       "</style>\n",
       "<table border=\"1\" class=\"dataframe\">\n",
       "  <thead>\n",
       "    <tr style=\"text-align: right;\">\n",
       "      <th></th>\n",
       "      <th>eval_loss</th>\n",
       "      <th>eval_precision</th>\n",
       "      <th>eval_recall</th>\n",
       "      <th>eval_f1</th>\n",
       "      <th>eval_accuracy</th>\n",
       "      <th>eval_runtime</th>\n",
       "      <th>eval_samples_per_second</th>\n",
       "      <th>eval_steps_per_second</th>\n",
       "      <th>step</th>\n",
       "    </tr>\n",
       "  </thead>\n",
       "  <tbody>\n",
       "    <tr>\n",
       "      <th>0</th>\n",
       "      <td>0.045647</td>\n",
       "      <td>0.762806</td>\n",
       "      <td>0.864899</td>\n",
       "      <td>0.810651</td>\n",
       "      <td>0.987847</td>\n",
       "      <td>6.4922</td>\n",
       "      <td>93.189</td>\n",
       "      <td>5.853</td>\n",
       "      <td>0</td>\n",
       "    </tr>\n",
       "  </tbody>\n",
       "</table>\n",
       "</div>"
      ],
      "text/plain": [
       "   eval_loss  eval_precision  eval_recall   eval_f1  eval_accuracy  \\\n",
       "0   0.045647        0.762806     0.864899  0.810651       0.987847   \n",
       "\n",
       "   eval_runtime  eval_samples_per_second  eval_steps_per_second  step  \n",
       "0        6.4922                   93.189                  5.853     0  "
      ]
     },
     "execution_count": 35,
     "metadata": {},
     "output_type": "execute_result"
    }
   ],
   "source": [
    "import pandas as pd\n",
    "import matplotlib.pyplot as plt\n",
    "\n",
    "logs = pd.DataFrame(trainer.state.log_history)\n",
    "\n",
    "print(\"Available columns:\", list(logs.columns))\n",
    "\n",
    "# Drop steps without eval metrics\n",
    "metric_cols = [col for col in [\"eval_loss\", \"eval_f1\", \"eval_precision\", \"eval_recall\"] if col in logs.columns]\n",
    "logs = logs.dropna(subset=metric_cols)\n",
    "\n",
    "logs.head()\n"
   ]
  },
  {
   "cell_type": "code",
   "execution_count": null,
   "metadata": {
    "execution": {
     "iopub.execute_input": "2025-05-04T01:27:04.509888Z",
     "iopub.status.busy": "2025-05-04T01:27:04.509124Z",
     "iopub.status.idle": "2025-05-04T01:27:04.820765Z",
     "shell.execute_reply": "2025-05-04T01:27:04.819948Z",
     "shell.execute_reply.started": "2025-05-04T01:27:04.509861Z"
    },
    "trusted": true
   },
   "outputs": [
    {
     "data": {
      "image/png": "[encoded data removed]",
      "text/plain": [
       "<Figure size 1000x500 with 1 Axes>"
      ]
     },
     "metadata": {},
     "output_type": "display_data"
    }
   ],
   "source": [
    "import pandas as pd\n",
    "import matplotlib.pyplot as plt\n",
    "\n",
    "logs = pd.DataFrame(trainer.state.log_history)\n",
    "\n",
    "metric_cols = [col for col in [\"eval_loss\", \"eval_f1\", \"eval_precision\", \"eval_recall\"] if col in logs.columns]\n",
    "logs = logs.dropna(subset=metric_cols).reset_index(drop=True)\n",
    "\n",
    "logs[\"epoch\"] = logs.index + 1\n",
    "\n",
    "plt.figure(figsize=(10, 5))\n",
    "if \"eval_loss\" in logs:\n",
    "    plt.plot(logs[\"epoch\"], logs[\"eval_loss\"], label=\"Validation Loss\", marker='o')\n",
    "if \"eval_f1\" in logs:\n",
    "    plt.plot(logs[\"epoch\"], logs[\"eval_f1\"], label=\"F1 Score\", marker='x')\n",
    "if \"eval_precision\" in logs:\n",
    "    plt.plot(logs[\"epoch\"], logs[\"eval_precision\"], label=\"Precision\", marker='^')\n",
    "if \"eval_recall\" in logs:\n",
    "    plt.plot(logs[\"epoch\"], logs[\"eval_recall\"], label=\"Recall\", marker='s')\n",
    "\n",
    "plt.title(\"Evaluation Metrics Over Training Epochs\")\n",
    "plt.xlabel(\"Epoch\")\n",
    "plt.ylabel(\"Score\")\n",
    "plt.ylim(0, 1)\n",
    "plt.grid(True)\n",
    "plt.legend()\n",
    "plt.show()\n"
   ]
  },
  {
   "cell_type": "code",
   "execution_count": 38,
   "metadata": {
    "execution": {
     "iopub.execute_input": "2025-05-04T01:28:31.868724Z",
     "iopub.status.busy": "2025-05-04T01:28:31.867932Z",
     "iopub.status.idle": "2025-05-04T01:28:31.985490Z",
     "shell.execute_reply": "2025-05-04T01:28:31.984899Z",
     "shell.execute_reply.started": "2025-05-04T01:28:31.868701Z"
    },
    "trusted": true
   },
   "outputs": [
    {
     "data": {
      "text/plain": [
       "<Figure size 640x480 with 0 Axes>"
      ]
     },
     "metadata": {},
     "output_type": "display_data"
    }
   ],
   "source": [
    "plt.savefig(\"eval_metrics_plot.png\", dpi=300, bbox_inches=\"tight\")\n"
   ]
  },
  {
   "cell_type": "code",
   "execution_count": 39,
   "metadata": {
    "execution": {
     "iopub.execute_input": "2025-05-04T01:28:55.609127Z",
     "iopub.status.busy": "2025-05-04T01:28:55.608363Z",
     "iopub.status.idle": "2025-05-04T01:28:56.253699Z",
     "shell.execute_reply": "2025-05-04T01:28:56.253044Z",
     "shell.execute_reply.started": "2025-05-04T01:28:55.609100Z"
    },
    "trusted": true
   },
   "outputs": [
    {
     "data": {
      "image/png": "[encoded data removed]",
      "text/plain": [
       "<Figure size 1000x500 with 1 Axes>"
      ]
     },
     "metadata": {},
     "output_type": "display_data"
    }
   ],
   "source": [
    "plt.figure(figsize=(10, 5))\n",
    "if \"eval_loss\" in logs:\n",
    "    plt.plot(logs[\"epoch\"], logs[\"eval_loss\"], label=\"Validation Loss\", marker='o')\n",
    "if \"eval_f1\" in logs:\n",
    "    plt.plot(logs[\"epoch\"], logs[\"eval_f1\"], label=\"F1 Score\", marker='x')\n",
    "if \"eval_precision\" in logs:\n",
    "    plt.plot(logs[\"epoch\"], logs[\"eval_precision\"], label=\"Precision\", marker='^')\n",
    "if \"eval_recall\" in logs:\n",
    "    plt.plot(logs[\"epoch\"], logs[\"eval_recall\"], label=\"Recall\", marker='s')\n",
    "\n",
    "plt.title(\"Evaluation Metrics Over Training Epochs\")\n",
    "plt.xlabel(\"Epoch\")\n",
    "plt.ylabel(\"Score\")\n",
    "plt.ylim(0, 1)\n",
    "plt.grid(True)\n",
    "plt.legend()\n",
    "plt.savefig(\"eval_metrics_plot.png\", dpi=300, bbox_inches=\"tight\")\n"
   ]
  }
 ],
 "metadata": {
  "kaggle": {
   "accelerator": "none",
   "dataSources": [
    {
     "datasetId": 7319824,
     "sourceId": 11663532,
     "sourceType": "datasetVersion"
    }
   ],
   "dockerImageVersionId": 31011,
   "isGpuEnabled": false,
   "isInternetEnabled": true,
   "language": "python",
   "sourceType": "notebook"
  },
  "kernelspec": {
   "display_name": "clean_twi_ner_env",
   "language": "python",
   "name": "python3"
  },
  "language_info": {
   "codemirror_mode": {
    "name": "ipython",
    "version": 3
   },
   "file_extension": ".py",
   "mimetype": "text/x-python",
   "name": "python",
   "nbconvert_exporter": "python",
   "pygments_lexer": "ipython3",
   "version": "3.10.0"
  }
 },
 "nbformat": 4,
 "nbformat_minor": 4
}
